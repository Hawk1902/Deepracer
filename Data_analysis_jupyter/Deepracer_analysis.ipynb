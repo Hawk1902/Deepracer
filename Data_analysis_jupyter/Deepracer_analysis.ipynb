{
 "cells": [
  {
   "cell_type": "markdown",
   "id": "fef62aa3",
   "metadata": {},
   "source": [
    "# Welcome to deepracer analysis"
   ]
  },
  {
   "cell_type": "markdown",
   "id": "f849e160",
   "metadata": {},
   "source": [
    "## Select your map and upload your csv file"
   ]
  },
  {
   "cell_type": "code",
   "execution_count": 9,
   "id": "89e63ee9",
   "metadata": {
    "scrolled": false
   },
   "outputs": [
    {
     "data": {
      "application/vnd.jupyter.widget-view+json": {
       "model_id": "a6fa56ac41234c7794ba7aad1304bd02",
       "version_major": 2,
       "version_minor": 0
      },
      "text/plain": [
       "Dropdown(description='Select .npy:', options=('2022_april_open.npy', '2022_april_pro.npy', '2022_august_open.n…"
      ]
     },
     "metadata": {},
     "output_type": "display_data"
    },
    {
     "data": {
      "application/vnd.jupyter.widget-view+json": {
       "model_id": "4513aa53924a4cf69393e029d5d547f9",
       "version_major": 2,
       "version_minor": 0
      },
      "text/plain": [
       "FileUpload(value={}, accept='.csv', description='Upload .csv')"
      ]
     },
     "metadata": {},
     "output_type": "display_data"
    },
    {
     "data": {
      "application/vnd.jupyter.widget-view+json": {
       "model_id": "d1296cd87f0a4003887da13fbba97dfd",
       "version_major": 2,
       "version_minor": 0
      },
      "text/plain": [
       "HBox(children=(Output(), Output()))"
      ]
     },
     "metadata": {},
     "output_type": "display_data"
    }
   ],
   "source": [
    "import numpy as np\n",
    "import pandas as pd\n",
    "import io\n",
    "import os\n",
    "import matplotlib.pyplot as plt\n",
    "import ipywidgets as widgets\n",
    "from IPython.display import display\n",
    "\n",
    "output_track = widgets.Output()\n",
    "output_trajectory = widgets.Output()\n",
    "output_container = widgets.HBox([output_track, output_trajectory])\n",
    "\n",
    "def list_npy_files(directory):\n",
    "    return [f for f in os.listdir(directory) if f.endswith('.npy')]\n",
    "\n",
    "npy_directory = 'maps'  # Replace with your directory path\n",
    "npy_files = list_npy_files(npy_directory)\n",
    "\n",
    "npy_selector = widgets.Dropdown(\n",
    "    options=npy_files,\n",
    "    description='Select .npy:',\n",
    "    style={'description_width': 'initial'}\n",
    ")\n",
    "\n",
    "def plot_track(track_data):\n",
    "    with output_track:\n",
    "        output_track.clear_output(wait=True)\n",
    "        inner_waypoints = track_data[:, 0:2]\n",
    "        outer_waypoints = track_data[:, 2:4]\n",
    "        plt.plot(inner_waypoints[:, 0], inner_waypoints[:, 1], 'r', label='Inner Waypoints')\n",
    "        plt.plot(outer_waypoints[:, 0], outer_waypoints[:, 1], 'b', label='Outer Waypoints')\n",
    "        plt.xlabel('X')\n",
    "        plt.ylabel('Y')\n",
    "        plt.title('DeepRacer Track')\n",
    "        plt.legend()\n",
    "        plt.show()\n",
    "\n",
    "def on_npy_selected(change):\n",
    "    selected_file = change['new']\n",
    "    track_data = np.load(os.path.join(npy_directory, selected_file))\n",
    "    plot_track(track_data)\n",
    "\n",
    "npy_selector.observe(on_npy_selected, names='value')\n",
    "\n",
    "def plot_car_trajectory(df):\n",
    "    with output_trajectory:\n",
    "        output_trajectory.clear_output(wait=True)\n",
    "        plt.scatter(df['X'], df['Y'], c=df.index, cmap='viridis', s=1)\n",
    "        plt.colorbar(label='Time step')\n",
    "        plt.xlabel('X')\n",
    "        plt.ylabel('Y')\n",
    "        plt.title('Car Trajectory')\n",
    "        plt.show()\n",
    "\n",
    "def on_csv_uploaded(change):\n",
    "    csv_data = change['new'][0]['content']\n",
    "    car_data = pd.read_csv(io.BytesIO(csv_data))\n",
    "    plot_car_trajectory(car_data)\n",
    "\n",
    "csv_uploader = widgets.FileUpload(\n",
    "    accept='.csv',\n",
    "    multiple=False,\n",
    "    description='Upload .csv',\n",
    "    style={'description_width': 'initial'}\n",
    ")\n",
    "csv_uploader.observe(on_csv_uploaded, names='value')\n",
    "\n",
    "display(npy_selector)\n",
    "display(csv_uploader)\n",
    "display(output_container)"
   ]
  },
  {
   "cell_type": "markdown",
   "id": "1eb48668",
   "metadata": {},
   "source": [
    "## Upload your training logs"
   ]
  },
  {
   "cell_type": "code",
   "execution_count": 10,
   "id": "7ad6435e",
   "metadata": {},
   "outputs": [
    {
     "ename": "ModuleNotFoundError",
     "evalue": "No module named 'deepracer'",
     "output_type": "error",
     "traceback": [
      "\u001b[1;31m---------------------------------------------------------------------------\u001b[0m",
      "\u001b[1;31mModuleNotFoundError\u001b[0m                       Traceback (most recent call last)",
      "\u001b[1;32m<ipython-input-10-46f5fd2a11ca>\u001b[0m in \u001b[0;36m<module>\u001b[1;34m\u001b[0m\n\u001b[0;32m      2\u001b[0m \u001b[0mget_ipython\u001b[0m\u001b[1;33m(\u001b[0m\u001b[1;33m)\u001b[0m\u001b[1;33m.\u001b[0m\u001b[0mrun_line_magic\u001b[0m\u001b[1;33m(\u001b[0m\u001b[1;34m'matplotlib'\u001b[0m\u001b[1;33m,\u001b[0m \u001b[1;34m'inline'\u001b[0m\u001b[1;33m)\u001b[0m\u001b[1;33m\u001b[0m\u001b[1;33m\u001b[0m\u001b[0m\n\u001b[0;32m      3\u001b[0m \u001b[1;33m\u001b[0m\u001b[0m\n\u001b[1;32m----> 4\u001b[1;33m \u001b[1;32mfrom\u001b[0m \u001b[0mdeepracer\u001b[0m\u001b[1;33m.\u001b[0m\u001b[0mtracks\u001b[0m \u001b[1;32mimport\u001b[0m \u001b[0mTrackIO\u001b[0m\u001b[1;33m,\u001b[0m \u001b[0mTrack\u001b[0m\u001b[1;33m\u001b[0m\u001b[1;33m\u001b[0m\u001b[0m\n\u001b[0m\u001b[0;32m      5\u001b[0m \u001b[1;32mfrom\u001b[0m \u001b[0mdeepracer\u001b[0m\u001b[1;33m.\u001b[0m\u001b[0mlogs\u001b[0m \u001b[1;32mimport\u001b[0m\u001b[0;31m \u001b[0m\u001b[0;31m\\\u001b[0m\u001b[1;33m\u001b[0m\u001b[1;33m\u001b[0m\u001b[0m\n\u001b[0;32m      6\u001b[0m     \u001b[0mSimulationLogsIO\u001b[0m \u001b[1;32mas\u001b[0m \u001b[0mslio\u001b[0m\u001b[1;33m,\u001b[0m\u001b[0;31m \u001b[0m\u001b[0;31m\\\u001b[0m\u001b[1;33m\u001b[0m\u001b[1;33m\u001b[0m\u001b[0m\n",
      "\u001b[1;31mModuleNotFoundError\u001b[0m: No module named 'deepracer'"
     ]
    }
   ],
   "source": [
    "import matplotlib.pyplot as plt\n",
    "%matplotlib inline\n",
    "\n",
    "from deepracer.tracks import TrackIO, Track\n",
    "from deepracer.logs import \\\n",
    "    SimulationLogsIO as slio, \\\n",
    "    PlottingUtils as pu,\\\n",
    "    AnalysisUtils as au   #, \\\n",
    "\n",
    "import warnings\n",
    "warnings.filterwarnings('ignore')\n",
    "tu = TrackIO()\n",
    "\n",
    "fname = 'training-20230427044742-kZgzE4keSa6VxUJnuVlsAQ-robomaker.log'"
   ]
  },
  {
   "cell_type": "markdown",
   "id": "df9387d9",
   "metadata": {},
   "source": [
    "Set to value of your hyperparameter in training"
   ]
  },
  {
   "cell_type": "code",
   "execution_count": 11,
   "id": "be863f47",
   "metadata": {},
   "outputs": [
    {
     "ename": "NameError",
     "evalue": "name 'EPISODES_PER_ITERATION' is not defined",
     "output_type": "error",
     "traceback": [
      "\u001b[1;31m---------------------------------------------------------------------------\u001b[0m",
      "\u001b[1;31mNameError\u001b[0m                                 Traceback (most recent call last)",
      "\u001b[1;32m<ipython-input-11-9fee9c0fc39d>\u001b[0m in \u001b[0;36m<module>\u001b[1;34m\u001b[0m\n\u001b[0;32m      1\u001b[0m episodes_slider = widgets.IntSlider(\n\u001b[1;32m----> 2\u001b[1;33m     \u001b[0mvalue\u001b[0m\u001b[1;33m=\u001b[0m\u001b[0mEPISODES_PER_ITERATION\u001b[0m\u001b[1;33m,\u001b[0m\u001b[1;33m\u001b[0m\u001b[1;33m\u001b[0m\u001b[0m\n\u001b[0m\u001b[0;32m      3\u001b[0m     \u001b[0mmin\u001b[0m\u001b[1;33m=\u001b[0m\u001b[1;36m1\u001b[0m\u001b[1;33m,\u001b[0m\u001b[1;33m\u001b[0m\u001b[1;33m\u001b[0m\u001b[0m\n\u001b[0;32m      4\u001b[0m     \u001b[0mmax\u001b[0m\u001b[1;33m=\u001b[0m\u001b[1;36m100\u001b[0m\u001b[1;33m,\u001b[0m\u001b[1;33m\u001b[0m\u001b[1;33m\u001b[0m\u001b[0m\n\u001b[0;32m      5\u001b[0m     \u001b[0mstep\u001b[0m\u001b[1;33m=\u001b[0m\u001b[1;36m1\u001b[0m\u001b[1;33m,\u001b[0m\u001b[1;33m\u001b[0m\u001b[1;33m\u001b[0m\u001b[0m\n",
      "\u001b[1;31mNameError\u001b[0m: name 'EPISODES_PER_ITERATION' is not defined"
     ]
    }
   ],
   "source": [
    "episodes_slider = widgets.IntSlider(\n",
    "    value=EPISODES_PER_ITERATION,\n",
    "    min=1,\n",
    "    max=100,\n",
    "    step=1,\n",
    "    description='Episodes:',\n",
    "    continuous_update=False,\n",
    "    orientation='horizontal',\n",
    "    readout=True,\n",
    "    readout_format='d'\n",
    ")\n",
    "\n",
    "def on_change(change):\n",
    "    global EPISODES_PER_ITERATION\n",
    "    EPISODES_PER_ITERATION = change['new']\n",
    "    data = slio.load_data(fname)\n",
    "    df = slio.convert_to_pandas(data, episodes_per_iteration=EPISODES_PER_ITERATION)\n",
    "\n",
    "    df = df.sort_values(['episode', 'steps'])\n",
    "\n",
    "    simulation_agg = au.simulation_agg(df)\n",
    "    au.analyze_training_progress(simulation_agg, title='Training progress')\n",
    "\n",
    "episodes_slider.observe(on_change, names='value')\n",
    "display(episodes_slider)\n",
    "\n",
    "EPISODES_PER_ITERATION = 20 #  Set to value of your hyperparameter in training\n",
    "\n",
    "data = slio.load_data(fname)\n",
    "df = slio.convert_to_pandas(data, episodes_per_iteration=EPISODES_PER_ITERATION)\n",
    "\n",
    "df = df.sort_values(['episode', 'steps'])\n",
    "simulation_agg = au.simulation_agg(df)\n",
    "au.analyze_training_progress(simulation_agg, title='Training progress')"
   ]
  },
  {
   "cell_type": "code",
   "execution_count": 12,
   "id": "9dcce026",
   "metadata": {},
   "outputs": [
    {
     "ename": "NameError",
     "evalue": "name 'au' is not defined",
     "output_type": "error",
     "traceback": [
      "\u001b[1;31m---------------------------------------------------------------------------\u001b[0m",
      "\u001b[1;31mNameError\u001b[0m                                 Traceback (most recent call last)",
      "\u001b[1;32m<ipython-input-12-2f7aef33dc89>\u001b[0m in \u001b[0;36m<module>\u001b[1;34m\u001b[0m\n\u001b[1;32m----> 1\u001b[1;33m \u001b[0mau\u001b[0m\u001b[1;33m.\u001b[0m\u001b[0mscatter_aggregates\u001b[0m\u001b[1;33m(\u001b[0m\u001b[0msimulation_agg\u001b[0m\u001b[1;33m,\u001b[0m \u001b[1;34m'Stats for all laps'\u001b[0m\u001b[1;33m)\u001b[0m\u001b[1;33m\u001b[0m\u001b[1;33m\u001b[0m\u001b[0m\n\u001b[0m",
      "\u001b[1;31mNameError\u001b[0m: name 'au' is not defined"
     ]
    }
   ],
   "source": [
    "au.scatter_aggregates(simulation_agg, 'Stats for all laps')"
   ]
  },
  {
   "cell_type": "code",
   "execution_count": 13,
   "id": "35d01490",
   "metadata": {},
   "outputs": [
    {
     "ename": "NameError",
     "evalue": "name 'simulation_agg' is not defined",
     "output_type": "error",
     "traceback": [
      "\u001b[1;31m---------------------------------------------------------------------------\u001b[0m",
      "\u001b[1;31mNameError\u001b[0m                                 Traceback (most recent call last)",
      "\u001b[1;32m<ipython-input-13-2209f5d9a71e>\u001b[0m in \u001b[0;36m<module>\u001b[1;34m\u001b[0m\n\u001b[1;32m----> 1\u001b[1;33m \u001b[0mcomplete_ones\u001b[0m \u001b[1;33m=\u001b[0m \u001b[0msimulation_agg\u001b[0m\u001b[1;33m[\u001b[0m\u001b[0msimulation_agg\u001b[0m\u001b[1;33m[\u001b[0m\u001b[1;34m'progress'\u001b[0m\u001b[1;33m]\u001b[0m\u001b[1;33m==\u001b[0m\u001b[1;36m100\u001b[0m\u001b[1;33m]\u001b[0m\u001b[1;33m\u001b[0m\u001b[1;33m\u001b[0m\u001b[0m\n\u001b[0m\u001b[0;32m      2\u001b[0m \u001b[1;33m\u001b[0m\u001b[0m\n\u001b[0;32m      3\u001b[0m \u001b[1;32mif\u001b[0m \u001b[0mcomplete_ones\u001b[0m\u001b[1;33m.\u001b[0m\u001b[0mshape\u001b[0m\u001b[1;33m[\u001b[0m\u001b[1;36m0\u001b[0m\u001b[1;33m]\u001b[0m \u001b[1;33m>\u001b[0m \u001b[1;36m0\u001b[0m\u001b[1;33m:\u001b[0m\u001b[1;33m\u001b[0m\u001b[1;33m\u001b[0m\u001b[0m\n\u001b[0;32m      4\u001b[0m     \u001b[0mau\u001b[0m\u001b[1;33m.\u001b[0m\u001b[0mscatter_aggregates\u001b[0m\u001b[1;33m(\u001b[0m\u001b[0mcomplete_ones\u001b[0m\u001b[1;33m,\u001b[0m \u001b[1;34m'Stats for complete laps'\u001b[0m\u001b[1;33m)\u001b[0m\u001b[1;33m\u001b[0m\u001b[1;33m\u001b[0m\u001b[0m\n\u001b[0;32m      5\u001b[0m \u001b[1;32melse\u001b[0m\u001b[1;33m:\u001b[0m\u001b[1;33m\u001b[0m\u001b[1;33m\u001b[0m\u001b[0m\n",
      "\u001b[1;31mNameError\u001b[0m: name 'simulation_agg' is not defined"
     ]
    }
   ],
   "source": [
    "complete_ones = simulation_agg[simulation_agg['progress']==100]\n",
    "\n",
    "if complete_ones.shape[0] > 0:\n",
    "    au.scatter_aggregates(complete_ones, 'Stats for complete laps')\n",
    "else:\n",
    "    print('No complete laps yet.')"
   ]
  },
  {
   "cell_type": "code",
   "execution_count": 14,
   "id": "424847e5",
   "metadata": {},
   "outputs": [
    {
     "ename": "NameError",
     "evalue": "name 'simulation_agg' is not defined",
     "output_type": "error",
     "traceback": [
      "\u001b[1;31m---------------------------------------------------------------------------\u001b[0m",
      "\u001b[1;31mNameError\u001b[0m                                 Traceback (most recent call last)",
      "\u001b[1;32m<ipython-input-14-61e034ebf755>\u001b[0m in \u001b[0;36m<module>\u001b[1;34m\u001b[0m\n\u001b[0;32m      1\u001b[0m \u001b[1;31m# View five most progressed episodes\u001b[0m\u001b[1;33m\u001b[0m\u001b[1;33m\u001b[0m\u001b[1;33m\u001b[0m\u001b[0m\n\u001b[1;32m----> 2\u001b[1;33m \u001b[0msimulation_agg\u001b[0m\u001b[1;33m.\u001b[0m\u001b[0mnlargest\u001b[0m\u001b[1;33m(\u001b[0m\u001b[1;36m5\u001b[0m\u001b[1;33m,\u001b[0m \u001b[1;34m'progress'\u001b[0m\u001b[1;33m)\u001b[0m\u001b[1;33m\u001b[0m\u001b[1;33m\u001b[0m\u001b[0m\n\u001b[0m",
      "\u001b[1;31mNameError\u001b[0m: name 'simulation_agg' is not defined"
     ]
    }
   ],
   "source": [
    "# View five most progressed episodes\n",
    "simulation_agg.nlargest(5, 'progress')"
   ]
  },
  {
   "cell_type": "code",
   "execution_count": 15,
   "id": "455ca624",
   "metadata": {},
   "outputs": [
    {
     "ename": "NameError",
     "evalue": "name 'complete_ones' is not defined",
     "output_type": "error",
     "traceback": [
      "\u001b[1;31m---------------------------------------------------------------------------\u001b[0m",
      "\u001b[1;31mNameError\u001b[0m                                 Traceback (most recent call last)",
      "\u001b[1;32m<ipython-input-15-3a26b429c977>\u001b[0m in \u001b[0;36m<module>\u001b[1;34m\u001b[0m\n\u001b[0;32m      1\u001b[0m \u001b[1;31m# View five best rewarded in completed laps\u001b[0m\u001b[1;33m\u001b[0m\u001b[1;33m\u001b[0m\u001b[1;33m\u001b[0m\u001b[0m\n\u001b[1;32m----> 2\u001b[1;33m \u001b[0mcomplete_ones\u001b[0m\u001b[1;33m.\u001b[0m\u001b[0mnlargest\u001b[0m\u001b[1;33m(\u001b[0m\u001b[1;36m5\u001b[0m\u001b[1;33m,\u001b[0m \u001b[1;34m'reward'\u001b[0m\u001b[1;33m)\u001b[0m\u001b[1;33m\u001b[0m\u001b[1;33m\u001b[0m\u001b[0m\n\u001b[0m",
      "\u001b[1;31mNameError\u001b[0m: name 'complete_ones' is not defined"
     ]
    }
   ],
   "source": [
    "# View five best rewarded in completed laps\n",
    "complete_ones.nlargest(5, 'reward')"
   ]
  },
  {
   "cell_type": "code",
   "execution_count": 16,
   "id": "6afdd842",
   "metadata": {},
   "outputs": [
    {
     "ename": "NameError",
     "evalue": "name 'simulation_agg' is not defined",
     "output_type": "error",
     "traceback": [
      "\u001b[1;31m---------------------------------------------------------------------------\u001b[0m",
      "\u001b[1;31mNameError\u001b[0m                                 Traceback (most recent call last)",
      "\u001b[1;32m<ipython-input-16-b2fd77121eda>\u001b[0m in \u001b[0;36m<module>\u001b[1;34m\u001b[0m\n\u001b[0;32m      1\u001b[0m \u001b[1;31m# View information for a couple last episodes\u001b[0m\u001b[1;33m\u001b[0m\u001b[1;33m\u001b[0m\u001b[1;33m\u001b[0m\u001b[0m\n\u001b[1;32m----> 2\u001b[1;33m \u001b[0msimulation_agg\u001b[0m\u001b[1;33m.\u001b[0m\u001b[0mtail\u001b[0m\u001b[1;33m(\u001b[0m\u001b[1;33m)\u001b[0m\u001b[1;33m\u001b[0m\u001b[1;33m\u001b[0m\u001b[0m\n\u001b[0m",
      "\u001b[1;31mNameError\u001b[0m: name 'simulation_agg' is not defined"
     ]
    }
   ],
   "source": [
    "# View information for a couple last episodes\n",
    "simulation_agg.tail()"
   ]
  },
  {
   "cell_type": "code",
   "execution_count": 17,
   "id": "ad7f9e6c",
   "metadata": {},
   "outputs": [
    {
     "name": "stdout",
     "output_type": "stream",
     "text": [
      "714\n",
      "0    22\n",
      "0    29\n",
      "0    33\n",
      "0    54\n",
      "Name: closest_waypoint, dtype: int64\n"
     ]
    },
    {
     "data": {
      "image/png": "[encoded data removed]",
      "text/plain": [
       "<Figure size 432x288 with 1 Axes>"
      ]
     },
     "metadata": {
      "needs_background": "light"
     },
     "output_type": "display_data"
    }
   ],
   "source": [
    "df1 = pd.read_csv('1-iteration.csv')\n",
    "waypoints1 = np.load('reinvent_base1.npy')\n",
    "print(waypoints1.size)\n",
    "\n",
    "fig, ax = plt.subplots()\n",
    "ax.scatter(waypoints1[:, 0], waypoints1[:, 1], s=5)\n",
    "\n",
    "values = df1.loc[df1['episode_status'] == 'off_track', 'closest_waypoint']\n",
    "print(values)\n",
    "\n",
    "for i in range(values.shape[0]):\n",
    "    waypoint_num = int(values.iloc[i])\n",
    "    x, y = waypoints1[waypoint_num, 0], waypoints1[waypoint_num, 1]\n",
    "    ax.scatter(x, y, s=50, marker='x', color='red')\n",
    "    ax.text(x, y, str(waypoint_num), fontsize=10, ha='center', va='center')\n",
    "\n",
    "\n",
    "ax.set_xlabel('X')\n",
    "ax.set_ylabel('Y')\n",
    "ax.set_title('Waypoint crash location')\n",
    "plt.show()"
   ]
  },
  {
   "cell_type": "code",
   "execution_count": null,
   "id": "fb6c587c",
   "metadata": {},
   "outputs": [],
   "source": []
  }
 ],
 "metadata": {
  "kernelspec": {
   "display_name": "Python 3",
   "language": "python",
   "name": "python3"
  },
  "language_info": {
   "codemirror_mode": {
    "name": "ipython",
    "version": 3
   },
   "file_extension": ".py",
   "mimetype": "text/x-python",
   "name": "python",
   "nbconvert_exporter": "python",
   "pygments_lexer": "ipython3",
   "version": "3.8.8"
  }
 },
 "nbformat": 4,
 "nbformat_minor": 5
}
