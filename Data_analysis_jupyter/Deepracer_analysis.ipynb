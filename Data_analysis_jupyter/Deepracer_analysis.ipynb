{
 "cells": [
  {
   "cell_type": "markdown",
   "id": "fef62aa3",
   "metadata": {},
   "source": [
    "# Welcome to deepracer analysis"
   ]
  },
  {
   "cell_type": "markdown",
   "id": "f849e160",
   "metadata": {},
   "source": [
    "## Select your map and upload your csv file"
   ]
  },
  {
   "cell_type": "code",
   "execution_count": 1,
   "id": "89e63ee9",
   "metadata": {
    "scrolled": false
   },
   "outputs": [
    {
     "data": {
      "application/vnd.jupyter.widget-view+json": {
       "model_id": "75174aab9cf14a0d97d2a4ec5c2b9e2e",
       "version_major": 2,
       "version_minor": 0
      },
      "text/plain": [
       "Dropdown(description='Select .npy:', options=('2022_april_open.npy', '2022_april_pro.npy', '2022_august_open.n…"
      ]
     },
     "metadata": {},
     "output_type": "display_data"
    },
    {
     "data": {
      "application/vnd.jupyter.widget-view+json": {
       "model_id": "e881650be5b84766ae36220231fdf043",
       "version_major": 2,
       "version_minor": 0
      },
      "text/plain": [
       "FileUpload(value=(), accept='.csv', description='Upload .csv')"
      ]
     },
     "metadata": {},
     "output_type": "display_data"
    },
    {
     "data": {
      "application/vnd.jupyter.widget-view+json": {
       "model_id": "fc5e97ec022b47ce9a3447ae6a87098c",
       "version_major": 2,
       "version_minor": 0
      },
      "text/plain": [
       "HBox(children=(Output(), Output()))"
      ]
     },
     "metadata": {},
     "output_type": "display_data"
    }
   ],
   "source": [
    "import numpy as np\n",
    "import pandas as pd\n",
    "import io\n",
    "import os\n",
    "import matplotlib.pyplot as plt\n",
    "import ipywidgets as widgets\n",
    "from IPython.display import display\n",
    "\n",
    "output_track = widgets.Output()\n",
    "output_trajectory = widgets.Output()\n",
    "output_container = widgets.HBox([output_track, output_trajectory])\n",
    "\n",
    "def list_npy_files(directory):\n",
    "    return [f for f in os.listdir(directory) if f.endswith('.npy')]\n",
    "\n",
    "npy_directory = 'maps'  # Replace with your directory path\n",
    "npy_files = list_npy_files(npy_directory)\n",
    "\n",
    "npy_selector = widgets.Dropdown(\n",
    "    options=npy_files,\n",
    "    description='Select .npy:',\n",
    "    style={'description_width': 'initial'}\n",
    ")\n",
    "\n",
    "def plot_track(track_data):\n",
    "    with output_track:\n",
    "        output_track.clear_output(wait=True)\n",
    "        inner_waypoints = track_data[:, 0:2]\n",
    "        outer_waypoints = track_data[:, 2:4]\n",
    "        plt.plot(inner_waypoints[:, 0], inner_waypoints[:, 1], 'r', label='Inner Waypoints')\n",
    "        plt.plot(outer_waypoints[:, 0], outer_waypoints[:, 1], 'b', label='Outer Waypoints')\n",
    "        plt.xlabel('X')\n",
    "        plt.ylabel('Y')\n",
    "        plt.title('DeepRacer Track')\n",
    "        plt.legend()\n",
    "        plt.show()\n",
    "\n",
    "def on_npy_selected(change):\n",
    "    selected_file = change['new']\n",
    "    track_data = np.load(os.path.join(npy_directory, selected_file))\n",
    "    plot_track(track_data)\n",
    "\n",
    "npy_selector.observe(on_npy_selected, names='value')\n",
    "\n",
    "def plot_car_trajectory(df):\n",
    "    with output_trajectory:\n",
    "        output_trajectory.clear_output(wait=True)\n",
    "        plt.scatter(df['X'], df['Y'], c=df.index, cmap='viridis', s=1)\n",
    "        plt.colorbar(label='Time step')\n",
    "        plt.xlabel('X')\n",
    "        plt.ylabel('Y')\n",
    "        plt.title('Car Trajectory')\n",
    "        plt.show()\n",
    "\n",
    "def on_csv_uploaded(change):\n",
    "    csv_data = change['new'][0]['content']\n",
    "    car_data = pd.read_csv(io.BytesIO(csv_data))\n",
    "    plot_car_trajectory(car_data)\n",
    "\n",
    "csv_uploader = widgets.FileUpload(\n",
    "    accept='.csv',\n",
    "    multiple=False,\n",
    "    description='Upload .csv',\n",
    "    style={'description_width': 'initial'}\n",
    ")\n",
    "csv_uploader.observe(on_csv_uploaded, names='value')\n",
    "\n",
    "display(npy_selector)\n",
    "display(csv_uploader)\n",
    "display(output_container)"
   ]
  },
  {
   "cell_type": "markdown",
   "id": "1eb48668",
   "metadata": {},
   "source": [
    "## Upload your training logs"
   ]
  },
  {
   "cell_type": "code",
   "execution_count": 2,
   "id": "7ad6435e",
   "metadata": {},
   "outputs": [],
   "source": [
    "import matplotlib.pyplot as plt\n",
    "%matplotlib inline\n",
    "\n",
    "from deepracer.tracks import TrackIO, Track\n",
    "from deepracer.logs import \\\n",
    "    SimulationLogsIO as slio, \\\n",
    "    PlottingUtils as pu,\\\n",
    "    AnalysisUtils as au   #, \\\n",
    "\n",
    "import warnings\n",
    "warnings.filterwarnings('ignore')\n",
    "tu = TrackIO()\n",
    "\n",
    "fname = 'training-20230427044742-kZgzE4keSa6VxUJnuVlsAQ-robomaker.log'"
   ]
  },
  {
   "cell_type": "markdown",
   "id": "df9387d9",
   "metadata": {},
   "source": [
    "Set to value of your hyperparameter in training"
   ]
  },
  {
   "cell_type": "code",
   "execution_count": 3,
   "id": "be863f47",
   "metadata": {},
   "outputs": [
    {
     "ename": "NameError",
     "evalue": "name 'EPISODES_PER_ITERATION' is not defined",
     "output_type": "error",
     "traceback": [
      "\u001b[1;31m---------------------------------------------------------------------------\u001b[0m",
      "\u001b[1;31mNameError\u001b[0m                                 Traceback (most recent call last)",
      "Cell \u001b[1;32mIn[3], line 2\u001b[0m\n\u001b[0;32m      1\u001b[0m episodes_slider \u001b[38;5;241m=\u001b[39m widgets\u001b[38;5;241m.\u001b[39mIntSlider(\n\u001b[1;32m----> 2\u001b[0m     value\u001b[38;5;241m=\u001b[39m\u001b[43mEPISODES_PER_ITERATION\u001b[49m,\n\u001b[0;32m      3\u001b[0m     \u001b[38;5;28mmin\u001b[39m\u001b[38;5;241m=\u001b[39m\u001b[38;5;241m1\u001b[39m,\n\u001b[0;32m      4\u001b[0m     \u001b[38;5;28mmax\u001b[39m\u001b[38;5;241m=\u001b[39m\u001b[38;5;241m100\u001b[39m,\n\u001b[0;32m      5\u001b[0m     step\u001b[38;5;241m=\u001b[39m\u001b[38;5;241m1\u001b[39m,\n\u001b[0;32m      6\u001b[0m     description\u001b[38;5;241m=\u001b[39m\u001b[38;5;124m'\u001b[39m\u001b[38;5;124mEpisodes:\u001b[39m\u001b[38;5;124m'\u001b[39m,\n\u001b[0;32m      7\u001b[0m     continuous_update\u001b[38;5;241m=\u001b[39m\u001b[38;5;28;01mFalse\u001b[39;00m,\n\u001b[0;32m      8\u001b[0m     orientation\u001b[38;5;241m=\u001b[39m\u001b[38;5;124m'\u001b[39m\u001b[38;5;124mhorizontal\u001b[39m\u001b[38;5;124m'\u001b[39m,\n\u001b[0;32m      9\u001b[0m     readout\u001b[38;5;241m=\u001b[39m\u001b[38;5;28;01mTrue\u001b[39;00m,\n\u001b[0;32m     10\u001b[0m     readout_format\u001b[38;5;241m=\u001b[39m\u001b[38;5;124m'\u001b[39m\u001b[38;5;124md\u001b[39m\u001b[38;5;124m'\u001b[39m\n\u001b[0;32m     11\u001b[0m )\n\u001b[0;32m     13\u001b[0m \u001b[38;5;28;01mdef\u001b[39;00m \u001b[38;5;21mon_change\u001b[39m(change):\n\u001b[0;32m     14\u001b[0m     \u001b[38;5;28;01mglobal\u001b[39;00m EPISODES_PER_ITERATION\n",
      "\u001b[1;31mNameError\u001b[0m: name 'EPISODES_PER_ITERATION' is not defined"
     ]
    }
   ],
   "source": [
    "episodes_slider = widgets.IntSlider(\n",
    "    value=EPISODES_PER_ITERATION,\n",
    "    min=1,\n",
    "    max=100,\n",
    "    step=1,\n",
    "    description='Episodes:',\n",
    "    continuous_update=False,\n",
    "    orientation='horizontal',\n",
    "    readout=True,\n",
    "    readout_format='d'\n",
    ")\n",
    "\n",
    "def on_change(change):\n",
    "    global EPISODES_PER_ITERATION\n",
    "    EPISODES_PER_ITERATION = change['new']\n",
    "    data = slio.load_data(fname)\n",
    "    df = slio.convert_to_pandas(data, episodes_per_iteration=EPISODES_PER_ITERATION)\n",
    "\n",
    "    df = df.sort_values(['episode', 'steps'])\n",
    "\n",
    "    simulation_agg = au.simulation_agg(df)\n",
    "    au.analyze_training_progress(simulation_agg, title='Training progress')\n",
    "\n",
    "episodes_slider.observe(on_change, names='value')\n",
    "display(episodes_slider)\n",
    "\n",
    "EPISODES_PER_ITERATION = 20 #  Set to value of your hyperparameter in training\n",
    "\n",
    "data = slio.load_data(fname)\n",
    "df = slio.convert_to_pandas(data, episodes_per_iteration=EPISODES_PER_ITERATION)\n",
    "\n",
    "df = df.sort_values(['episode', 'steps'])\n",
    "simulation_agg = au.simulation_agg(df)\n",
    "au.analyze_training_progress(simulation_agg, title='Training progress')"
   ]
  },
  {
   "cell_type": "code",
   "execution_count": 64,
   "id": "9dcce026",
   "metadata": {},
   "outputs": [
    {
     "data": {
      "image/png": "[encoded data removed]",
      "text/plain": [
       "<Figure size 1500x1100 with 9 Axes>"
      ]
     },
     "metadata": {},
     "output_type": "display_data"
    },
    {
     "data": {
      "text/plain": [
       "<Figure size 640x480 with 0 Axes>"
      ]
     },
     "metadata": {},
     "output_type": "display_data"
    }
   ],
   "source": [
    "au.scatter_aggregates(simulation_agg, 'Stats for all laps')"
   ]
  },
  {
   "cell_type": "code",
   "execution_count": 65,
   "id": "35d01490",
   "metadata": {},
   "outputs": [
    {
     "name": "stdout",
     "output_type": "stream",
     "text": [
      "No complete laps yet.\n"
     ]
    }
   ],
   "source": [
    "complete_ones = simulation_agg[simulation_agg['progress']==100]\n",
    "\n",
    "if complete_ones.shape[0] > 0:\n",
    "    au.scatter_aggregates(complete_ones, 'Stats for complete laps')\n",
    "else:\n",
    "    print('No complete laps yet.')"
   ]
  },
  {
   "cell_type": "code",
   "execution_count": 66,
   "id": "424847e5",
   "metadata": {},
   "outputs": [
    {
     "data": {
      "text/html": [
       "<div>\n",
       "<style scoped>\n",
       "    .dataframe tbody tr th:only-of-type {\n",
       "        vertical-align: middle;\n",
       "    }\n",
       "\n",
       "    .dataframe tbody tr th {\n",
       "        vertical-align: top;\n",
       "    }\n",
       "\n",
       "    .dataframe thead th {\n",
       "        text-align: right;\n",
       "    }\n",
       "</style>\n",
       "<table border=\"1\" class=\"dataframe\">\n",
       "  <thead>\n",
       "    <tr style=\"text-align: right;\">\n",
       "      <th></th>\n",
       "      <th>iteration</th>\n",
       "      <th>episode</th>\n",
       "      <th>steps</th>\n",
       "      <th>start_at</th>\n",
       "      <th>progress</th>\n",
       "      <th>time</th>\n",
       "      <th>dist</th>\n",
       "      <th>new_reward</th>\n",
       "      <th>speed</th>\n",
       "      <th>reward</th>\n",
       "      <th>time_if_complete</th>\n",
       "      <th>reward_if_complete</th>\n",
       "      <th>quintile</th>\n",
       "      <th>complete</th>\n",
       "    </tr>\n",
       "  </thead>\n",
       "  <tbody>\n",
       "    <tr>\n",
       "      <th>7</th>\n",
       "      <td>1</td>\n",
       "      <td>7</td>\n",
       "      <td>105</td>\n",
       "      <td>42</td>\n",
       "      <td>31.6207</td>\n",
       "      <td>6.932</td>\n",
       "      <td>5.451069</td>\n",
       "      <td>36.818</td>\n",
       "      <td>0.758667</td>\n",
       "      <td>36.818</td>\n",
       "      <td>21.922348</td>\n",
       "      <td>116.436385</td>\n",
       "      <td>1st</td>\n",
       "      <td>0</td>\n",
       "    </tr>\n",
       "    <tr>\n",
       "      <th>35</th>\n",
       "      <td>2</td>\n",
       "      <td>35</td>\n",
       "      <td>85</td>\n",
       "      <td>89</td>\n",
       "      <td>23.8704</td>\n",
       "      <td>5.603</td>\n",
       "      <td>4.291737</td>\n",
       "      <td>44.711</td>\n",
       "      <td>0.744471</td>\n",
       "      <td>44.711</td>\n",
       "      <td>23.472585</td>\n",
       "      <td>187.307293</td>\n",
       "      <td>5th</td>\n",
       "      <td>0</td>\n",
       "    </tr>\n",
       "    <tr>\n",
       "      <th>1</th>\n",
       "      <td>1</td>\n",
       "      <td>1</td>\n",
       "      <td>74</td>\n",
       "      <td>7</td>\n",
       "      <td>18.7645</td>\n",
       "      <td>4.866</td>\n",
       "      <td>3.745216</td>\n",
       "      <td>30.405</td>\n",
       "      <td>0.742838</td>\n",
       "      <td>30.405</td>\n",
       "      <td>25.931946</td>\n",
       "      <td>162.034693</td>\n",
       "      <td>1st</td>\n",
       "      <td>0</td>\n",
       "    </tr>\n",
       "    <tr>\n",
       "      <th>26</th>\n",
       "      <td>2</td>\n",
       "      <td>26</td>\n",
       "      <td>62</td>\n",
       "      <td>36</td>\n",
       "      <td>16.2508</td>\n",
       "      <td>4.065</td>\n",
       "      <td>3.237462</td>\n",
       "      <td>43.506</td>\n",
       "      <td>0.760968</td>\n",
       "      <td>43.506</td>\n",
       "      <td>25.014153</td>\n",
       "      <td>267.716051</td>\n",
       "      <td>4th</td>\n",
       "      <td>0</td>\n",
       "    </tr>\n",
       "    <tr>\n",
       "      <th>32</th>\n",
       "      <td>2</td>\n",
       "      <td>32</td>\n",
       "      <td>63</td>\n",
       "      <td>72</td>\n",
       "      <td>15.9380</td>\n",
       "      <td>4.135</td>\n",
       "      <td>3.062504</td>\n",
       "      <td>47.906</td>\n",
       "      <td>0.744921</td>\n",
       "      <td>47.906</td>\n",
       "      <td>25.944284</td>\n",
       "      <td>300.577237</td>\n",
       "      <td>5th</td>\n",
       "      <td>0</td>\n",
       "    </tr>\n",
       "  </tbody>\n",
       "</table>\n",
       "</div>"
      ],
      "text/plain": [
       "    iteration  episode  steps  start_at  progress   time      dist   \n",
       "7           1        7    105        42   31.6207  6.932  5.451069  \\\n",
       "35          2       35     85        89   23.8704  5.603  4.291737   \n",
       "1           1        1     74         7   18.7645  4.866  3.745216   \n",
       "26          2       26     62        36   16.2508  4.065  3.237462   \n",
       "32          2       32     63        72   15.9380  4.135  3.062504   \n",
       "\n",
       "    new_reward     speed  reward  time_if_complete  reward_if_complete   \n",
       "7       36.818  0.758667  36.818         21.922348          116.436385  \\\n",
       "35      44.711  0.744471  44.711         23.472585          187.307293   \n",
       "1       30.405  0.742838  30.405         25.931946          162.034693   \n",
       "26      43.506  0.760968  43.506         25.014153          267.716051   \n",
       "32      47.906  0.744921  47.906         25.944284          300.577237   \n",
       "\n",
       "   quintile  complete  \n",
       "7       1st         0  \n",
       "35      5th         0  \n",
       "1       1st         0  \n",
       "26      4th         0  \n",
       "32      5th         0  "
      ]
     },
     "execution_count": 66,
     "metadata": {},
     "output_type": "execute_result"
    }
   ],
   "source": [
    "# View five most progressed episodes\n",
    "simulation_agg.nlargest(5, 'progress')"
   ]
  },
  {
   "cell_type": "code",
   "execution_count": 67,
   "id": "455ca624",
   "metadata": {},
   "outputs": [
    {
     "data": {
      "text/html": [
       "<div>\n",
       "<style scoped>\n",
       "    .dataframe tbody tr th:only-of-type {\n",
       "        vertical-align: middle;\n",
       "    }\n",
       "\n",
       "    .dataframe tbody tr th {\n",
       "        vertical-align: top;\n",
       "    }\n",
       "\n",
       "    .dataframe thead th {\n",
       "        text-align: right;\n",
       "    }\n",
       "</style>\n",
       "<table border=\"1\" class=\"dataframe\">\n",
       "  <thead>\n",
       "    <tr style=\"text-align: right;\">\n",
       "      <th></th>\n",
       "      <th>iteration</th>\n",
       "      <th>episode</th>\n",
       "      <th>steps</th>\n",
       "      <th>start_at</th>\n",
       "      <th>progress</th>\n",
       "      <th>time</th>\n",
       "      <th>dist</th>\n",
       "      <th>new_reward</th>\n",
       "      <th>speed</th>\n",
       "      <th>reward</th>\n",
       "      <th>time_if_complete</th>\n",
       "      <th>reward_if_complete</th>\n",
       "      <th>quintile</th>\n",
       "      <th>complete</th>\n",
       "    </tr>\n",
       "  </thead>\n",
       "  <tbody>\n",
       "  </tbody>\n",
       "</table>\n",
       "</div>"
      ],
      "text/plain": [
       "Empty DataFrame\n",
       "Columns: [iteration, episode, steps, start_at, progress, time, dist, new_reward, speed, reward, time_if_complete, reward_if_complete, quintile, complete]\n",
       "Index: []"
      ]
     },
     "execution_count": 67,
     "metadata": {},
     "output_type": "execute_result"
    }
   ],
   "source": [
    "# View five best rewarded in completed laps\n",
    "complete_ones.nlargest(5, 'reward')"
   ]
  },
  {
   "cell_type": "code",
   "execution_count": 68,
   "id": "6afdd842",
   "metadata": {},
   "outputs": [
    {
     "data": {
      "text/html": [
       "<div>\n",
       "<style scoped>\n",
       "    .dataframe tbody tr th:only-of-type {\n",
       "        vertical-align: middle;\n",
       "    }\n",
       "\n",
       "    .dataframe tbody tr th {\n",
       "        vertical-align: top;\n",
       "    }\n",
       "\n",
       "    .dataframe thead th {\n",
       "        text-align: right;\n",
       "    }\n",
       "</style>\n",
       "<table border=\"1\" class=\"dataframe\">\n",
       "  <thead>\n",
       "    <tr style=\"text-align: right;\">\n",
       "      <th></th>\n",
       "      <th>iteration</th>\n",
       "      <th>episode</th>\n",
       "      <th>steps</th>\n",
       "      <th>start_at</th>\n",
       "      <th>progress</th>\n",
       "      <th>time</th>\n",
       "      <th>dist</th>\n",
       "      <th>new_reward</th>\n",
       "      <th>speed</th>\n",
       "      <th>reward</th>\n",
       "      <th>time_if_complete</th>\n",
       "      <th>reward_if_complete</th>\n",
       "      <th>quintile</th>\n",
       "      <th>complete</th>\n",
       "    </tr>\n",
       "  </thead>\n",
       "  <tbody>\n",
       "    <tr>\n",
       "      <th>35</th>\n",
       "      <td>2</td>\n",
       "      <td>35</td>\n",
       "      <td>85</td>\n",
       "      <td>89</td>\n",
       "      <td>23.8704</td>\n",
       "      <td>5.603</td>\n",
       "      <td>4.291737</td>\n",
       "      <td>44.711</td>\n",
       "      <td>0.744471</td>\n",
       "      <td>44.711</td>\n",
       "      <td>23.472585</td>\n",
       "      <td>187.307293</td>\n",
       "      <td>5th</td>\n",
       "      <td>0</td>\n",
       "    </tr>\n",
       "    <tr>\n",
       "      <th>36</th>\n",
       "      <td>2</td>\n",
       "      <td>36</td>\n",
       "      <td>47</td>\n",
       "      <td>95</td>\n",
       "      <td>10.6899</td>\n",
       "      <td>3.068</td>\n",
       "      <td>2.255833</td>\n",
       "      <td>29.708</td>\n",
       "      <td>0.743404</td>\n",
       "      <td>29.708</td>\n",
       "      <td>28.699988</td>\n",
       "      <td>277.907183</td>\n",
       "      <td>5th</td>\n",
       "      <td>0</td>\n",
       "    </tr>\n",
       "    <tr>\n",
       "      <th>37</th>\n",
       "      <td>2</td>\n",
       "      <td>37</td>\n",
       "      <td>42</td>\n",
       "      <td>101</td>\n",
       "      <td>9.1450</td>\n",
       "      <td>2.728</td>\n",
       "      <td>1.849191</td>\n",
       "      <td>22.907</td>\n",
       "      <td>0.668333</td>\n",
       "      <td>22.907</td>\n",
       "      <td>29.830508</td>\n",
       "      <td>250.486605</td>\n",
       "      <td>5th</td>\n",
       "      <td>0</td>\n",
       "    </tr>\n",
       "    <tr>\n",
       "      <th>38</th>\n",
       "      <td>2</td>\n",
       "      <td>38</td>\n",
       "      <td>23</td>\n",
       "      <td>107</td>\n",
       "      <td>4.2787</td>\n",
       "      <td>1.465</td>\n",
       "      <td>0.965145</td>\n",
       "      <td>8.606</td>\n",
       "      <td>0.766957</td>\n",
       "      <td>8.606</td>\n",
       "      <td>34.239372</td>\n",
       "      <td>201.135859</td>\n",
       "      <td>5th</td>\n",
       "      <td>0</td>\n",
       "    </tr>\n",
       "    <tr>\n",
       "      <th>39</th>\n",
       "      <td>2</td>\n",
       "      <td>39</td>\n",
       "      <td>37</td>\n",
       "      <td>113</td>\n",
       "      <td>9.4168</td>\n",
       "      <td>2.402</td>\n",
       "      <td>1.714036</td>\n",
       "      <td>19.107</td>\n",
       "      <td>0.730000</td>\n",
       "      <td>19.107</td>\n",
       "      <td>25.507603</td>\n",
       "      <td>202.903322</td>\n",
       "      <td>5th</td>\n",
       "      <td>0</td>\n",
       "    </tr>\n",
       "  </tbody>\n",
       "</table>\n",
       "</div>"
      ],
      "text/plain": [
       "    iteration  episode  steps  start_at  progress   time      dist   \n",
       "35          2       35     85        89   23.8704  5.603  4.291737  \\\n",
       "36          2       36     47        95   10.6899  3.068  2.255833   \n",
       "37          2       37     42       101    9.1450  2.728  1.849191   \n",
       "38          2       38     23       107    4.2787  1.465  0.965145   \n",
       "39          2       39     37       113    9.4168  2.402  1.714036   \n",
       "\n",
       "    new_reward     speed  reward  time_if_complete  reward_if_complete   \n",
       "35      44.711  0.744471  44.711         23.472585          187.307293  \\\n",
       "36      29.708  0.743404  29.708         28.699988          277.907183   \n",
       "37      22.907  0.668333  22.907         29.830508          250.486605   \n",
       "38       8.606  0.766957   8.606         34.239372          201.135859   \n",
       "39      19.107  0.730000  19.107         25.507603          202.903322   \n",
       "\n",
       "   quintile  complete  \n",
       "35      5th         0  \n",
       "36      5th         0  \n",
       "37      5th         0  \n",
       "38      5th         0  \n",
       "39      5th         0  "
      ]
     },
     "execution_count": 68,
     "metadata": {},
     "output_type": "execute_result"
    }
   ],
   "source": [
    "# View information for a couple last episodes\n",
    "simulation_agg.tail()"
   ]
  },
  {
   "cell_type": "code",
   "execution_count": null,
   "id": "ad7f9e6c",
   "metadata": {},
   "outputs": [],
   "source": []
  }
 ],
 "metadata": {
  "kernelspec": {
   "display_name": "Python 3 (ipykernel)",
   "language": "python",
   "name": "python3"
  },
  "language_info": {
   "codemirror_mode": {
    "name": "ipython",
    "version": 3
   },
   "file_extension": ".py",
   "mimetype": "text/x-python",
   "name": "python",
   "nbconvert_exporter": "python",
   "pygments_lexer": "ipython3",
   "version": "3.9.13"
  }
 },
 "nbformat": 4,
 "nbformat_minor": 5
}
